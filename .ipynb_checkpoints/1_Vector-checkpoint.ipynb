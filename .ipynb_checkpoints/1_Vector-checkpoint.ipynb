{
 "cells": [
  {
   "cell_type": "markdown",
   "id": "32b61c75",
   "metadata": {},
   "source": [
    "# [AI Math] 01. Vector"
   ]
  },
  {
   "cell_type": "markdown",
   "id": "84bb4a4c",
   "metadata": {},
   "source": [
    "---"
   ]
  },
  {
   "cell_type": "markdown",
   "id": "cd3889be",
   "metadata": {},
   "source": [
    "## 벡터 (vector)\n",
    "\n",
    "- 벡터는 숫자를 원소로 가지는 리스트(list) 또는 배열(array)입니다\n",
    "\n",
    "- 벡터는 공간에서 한 점을 나타냅니다\n",
    "\n",
    "- 벡터는 원점으로부터 상대적 위치를 표현합니다\n"
   ]
  },
  {
   "cell_type": "markdown",
   "id": "d767c02f",
   "metadata": {},
   "source": [
    "---"
   ]
  },
  {
   "cell_type": "markdown",
   "id": "7a804084",
   "metadata": {},
   "source": [
    "## EWO (Element Wise Operations) 벡터의 덧셈, 뺃셈, 성분 곱, 스칼라 곱\n",
    "\n",
    "- 벡터끼리 차원이 같으면(모양이 같으면), 덧셈, 뺄셈을 계산할 수 있습니다.\n",
    "\n",
    "    - 두 벡터의 덧셈은 다른 벡터로부터 **상대적 위치이동**을 표현합니다.\n",
    "    \n",
    "    - 두 벡터의 뺄셈은 방향을 뒤집은 덧셈입니다\n",
    "\n",
    "- 벡터끼리 차원이 같으면, 성분곱(Element Wise Multiplication)을 계산할 수 있습니다.\n",
    "\n",
    "- 스칼라 곱 벡터에 숫자를 곱해주면 길이만 변합니다.\n",
    "\n",
    "    - 1보다 크면 길이가 늘어나고, 1보다 작으면 길이가 줄어듭니다.\n",
    "    \n",
    "    - 단, 0보다 작으면 반대 방향이 됩니다.\n"
   ]
  },
  {
   "cell_type": "code",
   "execution_count": 1,
   "id": "e273fd87",
   "metadata": {},
   "outputs": [],
   "source": [
    "import numpy as np\n",
    "\n",
    "x = np.array([1,7,2])\n",
    "y = np.array([5,2,1])"
   ]
  },
  {
   "cell_type": "code",
   "execution_count": 2,
   "id": "b672fbe4",
   "metadata": {},
   "outputs": [
    {
     "data": {
      "text/plain": [
       "array([6, 9, 3])"
      ]
     },
     "execution_count": 2,
     "metadata": {},
     "output_type": "execute_result"
    }
   ],
   "source": [
    "x + y"
   ]
  },
  {
   "cell_type": "code",
   "execution_count": 3,
   "id": "b197309a",
   "metadata": {},
   "outputs": [
    {
     "data": {
      "text/plain": [
       "array([-4,  5,  1])"
      ]
     },
     "execution_count": 3,
     "metadata": {},
     "output_type": "execute_result"
    }
   ],
   "source": [
    "x - y"
   ]
  },
  {
   "cell_type": "code",
   "execution_count": 4,
   "id": "cfb02307",
   "metadata": {},
   "outputs": [
    {
     "data": {
      "text/plain": [
       "array([ 5, 14,  2])"
      ]
     },
     "execution_count": 4,
     "metadata": {},
     "output_type": "execute_result"
    }
   ],
   "source": [
    "# 성분곱 (Hadamard product)\n",
    "# Element Wise Multiplication\n",
    "# Element Wise Product\n",
    "\n",
    "x * y"
   ]
  },
  {
   "cell_type": "markdown",
   "id": "fa4ba75d",
   "metadata": {},
   "source": [
    "---"
   ]
  },
  {
   "cell_type": "markdown",
   "id": "2a486bad",
   "metadata": {},
   "source": [
    "## 벡터의 노름 (Norm)\n",
    "\n",
    "- 벡터의 노름(norm)은 **원점에서 부터의 거리** 를 말합니다. \n",
    "    - 임의의 차원 d 에 대해 성립하는 것을 명심(구성성분의 개수 상관없이)!\n",
    "    \n",
    "- 노름의 종류에 따라 기하학적 성질이 달라지므로, 각 성질들이 필요할 때가 각각 있으므로 둘 다 사용!!!\n"
   ]
  },
  {
   "attachments": {
    "image.png": {
     "image/png": "[encoded data removed]"
    }
   },
   "cell_type": "markdown",
   "id": "6206677f",
   "metadata": {},
   "source": [
    "![image.png](attachment:image.png)"
   ]
  },
  {
   "cell_type": "markdown",
   "id": "743b5da3",
   "metadata": {},
   "source": [
    "---"
   ]
  },
  {
   "cell_type": "markdown",
   "id": "908a6d28",
   "metadata": {},
   "source": [
    "### L1-norm (맨해튼 거리 또는 절대값 거리)\n",
    "\n",
    "- **각 성분의 변화량의 절대값 의 합**\n",
    "    \n",
    "- 여기서 변화량은 원점에서 부터 의 차이 를 뜻함\n"
   ]
  },
  {
   "cell_type": "code",
   "execution_count": 13,
   "id": "4ee93582",
   "metadata": {},
   "outputs": [],
   "source": [
    "def l1_norm(x):\n",
    "    \n",
    "    x_norm = np.abs(x) # 각 성분의 변화량의 절대값, 여기서 변화량은 원점에서 부터 의 차이 를 뜻함\n",
    "    \n",
    "    x_norm = np.sum(x_norm) # 각 성분의 변화량의 절대값 들의 합\n",
    "    \n",
    "    return x_norm"
   ]
  },
  {
   "cell_type": "code",
   "execution_count": 14,
   "id": "33c7bd5e",
   "metadata": {},
   "outputs": [],
   "source": [
    "x = np.array([3,4])"
   ]
  },
  {
   "cell_type": "code",
   "execution_count": 15,
   "id": "cbcf4ffa",
   "metadata": {},
   "outputs": [
    {
     "data": {
      "text/plain": [
       "7"
      ]
     },
     "execution_count": 15,
     "metadata": {},
     "output_type": "execute_result"
    }
   ],
   "source": [
    "l1_norm(x)"
   ]
  },
  {
   "cell_type": "markdown",
   "id": "a7febbb5",
   "metadata": {},
   "source": [
    "---"
   ]
  },
  {
   "cell_type": "markdown",
   "id": "24ffabae",
   "metadata": {},
   "source": [
    "###  L2-norm (유클리드 거리)\n",
    "\n",
    "- 각 원소들의 제곱의 합을 루트(제곱근),  **sqrt( EWM 값들의 합 )**\n",
    "\n",
    "- 유클리드 거리(Euclidean distance)는 두 점 사이의 거리를 계산할 때 흔히 쓰는 방법이다. \n",
    "\n",
    "- 이 거리를 사용하여 유클리드 공간을 정의할 수 있으며, 이 거리에 대응하는 노름을 유클리드 노름(Euclidean norm)이라고 부른다.\n",
    "\n",
    "- 직교 좌표계로 나타낸 점 p = (p1, p2,..., pn)와 q = (q1, q2,..., qn)가 있을 때, 두 유클리드 노름을 이용하여 두 점 p, q의 거리를 계산하면 다음과 같다.\n",
    "\n",
    "<img src = https://wikimedia.org/api/rest_v1/media/math/render/svg/7c75d1876ea130c78887147d389bdfb161fef095 >\n",
    "\n"
   ]
  },
  {
   "cell_type": "code",
   "execution_count": 16,
   "id": "c31ffc16",
   "metadata": {},
   "outputs": [],
   "source": [
    "def l2_norm(x):\n",
    "    \n",
    "    x_norm = x*x # 1-1) Element Wise Multiplication 성분곱 연산\n",
    "    \n",
    "    x_norm = np.sum(x_norm) # 1-2) EWM 값 들의 합 \n",
    "    \n",
    "    x_norm = np.sqrt(x_norm) # 1-3) 루트 연산 \n",
    "    \n",
    "    return x_norm"
   ]
  },
  {
   "cell_type": "code",
   "execution_count": 19,
   "id": "3795dd07",
   "metadata": {},
   "outputs": [
    {
     "data": {
      "text/plain": [
       "10.0"
      ]
     },
     "execution_count": 19,
     "metadata": {},
     "output_type": "execute_result"
    }
   ],
   "source": [
    "x = np.array([-6,-8])\n",
    "l2_norm(x)"
   ]
  },
  {
   "cell_type": "code",
   "execution_count": 20,
   "id": "3bb5deb6",
   "metadata": {},
   "outputs": [
    {
     "data": {
      "text/plain": [
       "10.0"
      ]
     },
     "execution_count": 20,
     "metadata": {},
     "output_type": "execute_result"
    }
   ],
   "source": [
    "np.linalg.norm(x)"
   ]
  },
  {
   "cell_type": "markdown",
   "id": "fb367066",
   "metadata": {},
   "source": [
    "---"
   ]
  },
  {
   "cell_type": "markdown",
   "id": "b258531a",
   "metadata": {},
   "source": [
    "## 두 벡터 사이의 거리\n",
    "\n",
    "- 두 벡터 사이의 거리, L1, L2-노름을 이용해 계산\n",
    "\n",
    "- 두 벡터 사이의 거리, 벡터의 뺄셈을 이용, |x-y| == |y-x| \n",
    "\n"
   ]
  },
  {
   "cell_type": "markdown",
   "id": "4ab673e3",
   "metadata": {},
   "source": [
    "---"
   ]
  },
  {
   "cell_type": "markdown",
   "id": "6b4bf45d",
   "metadata": {},
   "source": [
    "## 두 벡터 사이의 각도\n",
    "\n",
    "- L2-노름을 이용해 계산\n",
    "\n",
    "- 두 벡터 사이의 각도, 두 벡터 사이의 거리(|x-y|) 와 제 2 코사인 법칙 을 이용해 계산\n",
    " \n",
    "- 두 벡터 사이의 각도, 벡터의 내적을 이용 "
   ]
  },
  {
   "cell_type": "markdown",
   "id": "7a761101",
   "metadata": {},
   "source": [
    "---"
   ]
  },
  {
   "cell_type": "markdown",
   "id": "b5dc211e",
   "metadata": {},
   "source": [
    "### 제 2 코사인 법칙 (The Second Law of Cosines)\n",
    "\n",
    "- $||C||^2 = ||A||^2 + ||B||^2 - 2||A|| * ||B|| * \\cos(\\theta)$\n",
    "\n",
    "- $||A - B||^2 = ||A||^2 + ||B||^2 - 2||A|| * ||B|| * \\cos(\\theta)$\n",
    "\n",
    "- $ cos(θ) = \\frac{||A||^2 + ||B||^2 - ||A - B||^2 } {2||A|| * ||B||} $\n"
   ]
  },
  {
   "cell_type": "markdown",
   "id": "fc1713e6",
   "metadata": {},
   "source": [
    "---"
   ]
  },
  {
   "attachments": {
    "image.png": {
     "image/png": "[encoded data removed]"
    }
   },
   "cell_type": "markdown",
   "id": "422aa195",
   "metadata": {},
   "source": [
    "### 제 2 코사인 법칙 (The Second Law of Cosines) 을 이용한 각도 계산\n",
    "\n",
    "![image.png](attachment:image.png)"
   ]
  },
  {
   "cell_type": "markdown",
   "id": "49e550ec",
   "metadata": {},
   "source": [
    "- $||x - y||$는 벡터 A와 B 사이의 거리(norm)입니다.\n",
    "\n",
    "- $||x||$는 벡터 x의 크기(norm)를 나타냅니다. \n",
    "    - |x| = √(1^2 + 0^2) = 1\n",
    "- $||y||$는 벡터 y의 크기(norm)를 나타냅니다. \n",
    "    - |y| = √(1^2 + (√3)^2) = √(1 + 3) = 2\n",
    "\n",
    "- $(\\theta)$는 x와 y 사이의 각도입니다.\n",
    "\n",
    "\n",
    "- $||x - y||^2 = ||x||^2 + ||y||^2 - 2||x|| * ||y|| * \\cos(\\theta)$\n",
    "\n",
    "- $√3^2 = 1^2 + 2^2 - 2 * 1 * 2 * cos(θ)$\n",
    "    - $ 3 = 5 - 4 * cos(θ)$\n",
    "    - $ -2 = -4 * cos(θ) $\n",
    "    - $ 2 = 4 * cos(θ) $\n",
    "    - $ cos(θ) = 1 / 2 $\n",
    "    - $ θ = 60' $ "
   ]
  },
  {
   "cell_type": "markdown",
   "id": "b80c8345",
   "metadata": {},
   "source": [
    "---"
   ]
  },
  {
   "cell_type": "markdown",
   "id": "ddad248a",
   "metadata": {},
   "source": [
    "## 벡터의 내적(Inner product)\n",
    "\n",
    "- 내적은 정사영(orthogonal projection)된 벡터의 길이와 관련 있다.\n",
    "\n",
    "    - Proj(x) 의 길이는 코사인법칙에 의해 ∥x∥ cos θ 가 된다.\n",
    "\n",
    "    - 내적은 정사영의 길이를 벡터 y 의 길이 ∥y∥ 만큼 조정한 값이다.\n",
    "\n",
    "- **내적은 두 벡터의 유사도(similarity)를 측정하는데 사용 가능**하다.\n",
    "\n",
    "    - Inner product\n",
    "    - dot product, `𝑎·𝑏` or (a,b)\n",
    "    - scalar product, 내적의 결과값이 스칼라이기 때문에\n",
    "    - projection product, 정사영, cos(theta) 를 이용"
   ]
  },
  {
   "cell_type": "markdown",
   "id": "f1a1cff5",
   "metadata": {},
   "source": [
    "---"
   ]
  },
  {
   "cell_type": "markdown",
   "id": "5a96e510",
   "metadata": {},
   "source": [
    "### 벡터의 내적 (inner product) 을 이용한 각도 계산\n",
    "\n",
    "\n",
    "- $ x · y = ||x|| * ||y|| * \\cos(\\theta) $\n",
    "\n",
    "    - 내적 : $ (1 * 1) + (0 * √3) = 1 $ \n",
    "\n",
    "    - 곱 : $ (1 * 2)\\cos(\\theta) $\n",
    "\n",
    "    - $ cos(θ) = 1 / 2 $\n",
    "\n",
    "    - $ θ = 60' $ \n"
   ]
  },
  {
   "cell_type": "code",
   "execution_count": 11,
   "id": "1c7a00a6",
   "metadata": {},
   "outputs": [],
   "source": [
    "def angle(x ,y):\n",
    "    \n",
    "    cos_theta = int(np.inner(x, y)) / ( int(l2_norm(x)) + int(l2_norm(y)) )\n",
    "\n",
    "    # 역코사인을 사용하여 각도 θ를 계산 (라디안 단위)\n",
    "    theta_rad = np.arccos(cos_theta)\n",
    "    \n",
    "    # 라디안에서 도(degree)로 변환\n",
    "    theta_degree = np.degrees(theta_rad)\n",
    "    \n",
    "    return theta_degree"
   ]
  },
  {
   "cell_type": "code",
   "execution_count": 12,
   "id": "cde7df9d",
   "metadata": {},
   "outputs": [],
   "source": [
    "x = np.array([1, 0])\n",
    "\n",
    "y = np.array([1, np.sqrt(3)])"
   ]
  },
  {
   "cell_type": "code",
   "execution_count": 13,
   "id": "530ceac5",
   "metadata": {},
   "outputs": [
    {
     "data": {
      "text/plain": [
       "59.99999999999999"
      ]
     },
     "execution_count": 13,
     "metadata": {},
     "output_type": "execute_result"
    }
   ],
   "source": [
    "angle(x,y)"
   ]
  },
  {
   "cell_type": "markdown",
   "id": "2ff39856",
   "metadata": {},
   "source": [
    "---"
   ]
  },
  {
   "cell_type": "code",
   "execution_count": 14,
   "id": "a15cd693",
   "metadata": {},
   "outputs": [
    {
     "name": "stdout",
     "output_type": "stream",
     "text": [
      "59.99999999999999\n"
     ]
    }
   ],
   "source": [
    "import math\n",
    "\n",
    "x = np.array([1, 0])\n",
    "\n",
    "y = np.array([1, math.sqrt(3)])\n",
    "\n",
    "\n",
    "cos_theta = int(np.inner(x, y)) / ( int(l2_norm(x)) + int(l2_norm(y)) )\n",
    "\n",
    "theta_rad = math.acos(cos_theta)\n",
    "\n",
    "theta_degree = math.degrees(theta_rad)\n",
    "\n",
    "print(theta_degree)"
   ]
  },
  {
   "cell_type": "markdown",
   "id": "5c8b086c",
   "metadata": {},
   "source": [
    "---"
   ]
  },
  {
   "cell_type": "markdown",
   "id": "efc7ce46",
   "metadata": {},
   "source": [
    "## quiz \n",
    "\n",
    "내적이 다음과 같이 정의 될 때, 다음 두 벡터 ( x, y )의 내적을 구하시오.\n",
    "\n",
    "x = [1, -1, 1, -1]\n",
    "y = [4, -4, 4, -4]"
   ]
  },
  {
   "cell_type": "markdown",
   "id": "76f00048",
   "metadata": {},
   "source": [
    "---"
   ]
  },
  {
   "cell_type": "markdown",
   "id": "a8d9d909",
   "metadata": {},
   "source": [
    "### sol 1 \n",
    "- 내적 곱(성분 끼리 곱)\n",
    "- $<x, y> = x1 * y1 + x2 * y2 + x3 * y3 + x4 * y4$\n",
    "- $<x, y> = 4 + 4 + 4 + 4 = 16$"
   ]
  },
  {
   "cell_type": "markdown",
   "id": "fede3f2b",
   "metadata": {},
   "source": [
    "---"
   ]
  },
  {
   "cell_type": "markdown",
   "id": "bfb3e724",
   "metadata": {},
   "source": [
    "###  sol 2\n",
    "- $ <x, y> = ||x||_2 * ||y||_2 * cos(θ) $\n",
    "\n",
    "- 먼저, 벡터 x와 y의 L2 노름 (Euclidean norm)을 계산해야 합니다. L2 노름은 벡터의 각 요소를 제곱한 후 모두 더한 후 제곱근을 취하는 것입니다.\n",
    "\n",
    "    - $||x||_2 = sqrt(1^2 + (-1)^2 + 1^2 + (-1)^2) = sqrt(1 + 1 + 1 + 1) = sqrt(4) = 2$\n",
    "\n",
    "    - $||y||_2 = sqrt(4^2 + (-4)^2 + 4^2 + (-4)^2) = sqrt(16 + 16 + 16 + 16) = sqrt(64) = 8$\n",
    "\n",
    "- 이제 각 벡터의 L2 노름과 코사인 값 (θ)을 이용하여 내적을 계산합니다.\n",
    "\n",
    "- cos(θ)는 내적 공식을 사용하여 계산할 수 있습니다.\n",
    "\n",
    "    - $cos(θ) = <x, y> / (||x||_2 * ||y||_2)$\n",
    "\n",
    "\n",
    "- 따라서, $<x, y> = ||x||_2 * ||y||_2 * cos(θ) = 2 * 8 * (cos(θ))$\n",
    "\n",
    "- 내적을 계산하기 위해 cos(θ)를 구합니다.\n",
    "\n",
    "    - $cos(θ) = <x, y> / (||x||_2 * ||y||_2) = (1 * 4 + (-1) * (-4) + 1 * 4 + (-1) * (-4)) / (2 * 8) = (4 + 4 + 4 + 4) / 16 = 16 / 16 = 1$\n",
    "\n",
    "- 따라서, 두 벡터 x와 y의 내적은 다음과 같습니다.\n",
    "    - $<x, y> = 2 * 8 * 1 = 16$"
   ]
  }
 ],
 "metadata": {
  "kernelspec": {
   "display_name": "Python 3 (ipykernel)",
   "language": "python",
   "name": "python3"
  },
  "language_info": {
   "codemirror_mode": {
    "name": "ipython",
    "version": 3
   },
   "file_extension": ".py",
   "mimetype": "text/x-python",
   "name": "python",
   "nbconvert_exporter": "python",
   "pygments_lexer": "ipython3",
   "version": "3.8.16"
  },
  "toc": {
   "base_numbering": 1,
   "nav_menu": {},
   "number_sections": true,
   "sideBar": true,
   "skip_h1_title": false,
   "title_cell": "Table of Contents",
   "title_sidebar": "Contents",
   "toc_cell": false,
   "toc_position": {
    "height": "calc(100% - 180px)",
    "left": "10px",
    "top": "150px",
    "width": "241.182068px"
   },
   "toc_section_display": true,
   "toc_window_display": true
  },
  "varInspector": {
   "cols": {
    "lenName": 16,
    "lenType": 16,
    "lenVar": 40
   },
   "kernels_config": {
    "python": {
     "delete_cmd_postfix": "",
     "delete_cmd_prefix": "del ",
     "library": "var_list.py",
     "varRefreshCmd": "print(var_dic_list())"
    },
    "r": {
     "delete_cmd_postfix": ") ",
     "delete_cmd_prefix": "rm(",
     "library": "var_list.r",
     "varRefreshCmd": "cat(var_dic_list()) "
    }
   },
   "types_to_exclude": [
    "module",
    "function",
    "builtin_function_or_method",
    "instance",
    "_Feature"
   ],
   "window_display": false
  }
 },
 "nbformat": 4,
 "nbformat_minor": 5
}
